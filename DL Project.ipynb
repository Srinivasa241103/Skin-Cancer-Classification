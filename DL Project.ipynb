{
 "cells": [
  {
   "cell_type": "code",
   "execution_count": null,
   "id": "cb9063d8-17e4-4f2a-a774-4868215a9762",
   "metadata": {},
   "outputs": [
    {
     "name": "stdout",
     "output_type": "stream",
     "text": [
      "Collecting tensorflow\n"
     ]
    }
   ],
   "source": [
    "pip install tensorflow matplotlib numpy scikit-learn\n"
   ]
  },
  {
   "cell_type": "code",
   "execution_count": 6,
   "id": "dfd62932-a253-4c2d-a8f7-c1ad09cec97a",
   "metadata": {},
   "outputs": [],
   "source": [
    "import os\n",
    "import tensorflow as tf\n",
    "import matplotlib.pyplot as plt\n",
    "from sklearn.model_selection import train_test_split\n",
    "from tensorflow.keras.preprocessing.image import load_img, img_to_array\n"
   ]
  },
  {
   "cell_type": "code",
   "execution_count": null,
   "id": "d4e050ae-3597-410b-99a0-978595bbccf5",
   "metadata": {},
   "outputs": [],
   "source": []
  },
  {
   "cell_type": "code",
   "execution_count": 18,
   "id": "8fde9d83-c996-41c0-8d96-bda6f4796d7d",
   "metadata": {},
   "outputs": [
    {
     "ename": "FileNotFoundError",
     "evalue": "[Errno 2] No such file or directory: '/Users/cherry/Documents/DL PROJECT/Skin_Cancer_Classification_DL_Project(1)/train'",
     "output_type": "error",
     "traceback": [
      "\u001b[0;31m---------------------------------------------------------------------------\u001b[0m",
      "\u001b[0;31mFileNotFoundError\u001b[0m                         Traceback (most recent call last)",
      "Cell \u001b[0;32mIn[18], line 22\u001b[0m\n\u001b[1;32m     19\u001b[0m             labels\u001b[38;5;241m.\u001b[39mappend(label)\n\u001b[1;32m     20\u001b[0m     \u001b[38;5;28;01mreturn\u001b[39;00m np\u001b[38;5;241m.\u001b[39marray(images), np\u001b[38;5;241m.\u001b[39marray(labels)\n\u001b[0;32m---> 22\u001b[0m train_images, train_labels \u001b[38;5;241m=\u001b[39m get_images_and_labels(train_path)\n\u001b[1;32m     23\u001b[0m val_images, val_labels \u001b[38;5;241m=\u001b[39m get_images_and_labels(val_path)\n\u001b[1;32m     25\u001b[0m \u001b[38;5;28mprint\u001b[39m(\u001b[38;5;124m\"\u001b[39m\u001b[38;5;124mTrain shape:\u001b[39m\u001b[38;5;124m\"\u001b[39m, train_images\u001b[38;5;241m.\u001b[39mshape, train_labels\u001b[38;5;241m.\u001b[39mshape)\n",
      "Cell \u001b[0;32mIn[18], line 10\u001b[0m, in \u001b[0;36mget_images_and_labels\u001b[0;34m(folder_path)\u001b[0m\n\u001b[1;32m      8\u001b[0m images \u001b[38;5;241m=\u001b[39m []\n\u001b[1;32m      9\u001b[0m labels \u001b[38;5;241m=\u001b[39m []\n\u001b[0;32m---> 10\u001b[0m \u001b[38;5;28;01mfor\u001b[39;00m filename \u001b[38;5;129;01min\u001b[39;00m os\u001b[38;5;241m.\u001b[39mlistdir(folder_path):\n\u001b[1;32m     11\u001b[0m     \u001b[38;5;28;01mif\u001b[39;00m filename\u001b[38;5;241m.\u001b[39mendswith(\u001b[38;5;124m\"\u001b[39m\u001b[38;5;124m.jpg\u001b[39m\u001b[38;5;124m\"\u001b[39m) \u001b[38;5;129;01mor\u001b[39;00m filename\u001b[38;5;241m.\u001b[39mendswith(\u001b[38;5;124m\"\u001b[39m\u001b[38;5;124m.png\u001b[39m\u001b[38;5;124m\"\u001b[39m):\n\u001b[1;32m     12\u001b[0m         label \u001b[38;5;241m=\u001b[39m \u001b[38;5;28mint\u001b[39m(filename\u001b[38;5;241m.\u001b[39msplit(\u001b[38;5;124m\"\u001b[39m\u001b[38;5;124m_\u001b[39m\u001b[38;5;124m\"\u001b[39m)[\u001b[38;5;241m0\u001b[39m]) \u001b[38;5;241m-\u001b[39m \u001b[38;5;241m1\u001b[39m  \u001b[38;5;66;03m# convert to 0-indexed\u001b[39;00m\n",
      "\u001b[0;31mFileNotFoundError\u001b[0m: [Errno 2] No such file or directory: '/Users/cherry/Documents/DL PROJECT/Skin_Cancer_Classification_DL_Project(1)/train'"
     ]
    }
   ],
   "source": [
    "import numpy as np\n",
    "\n",
    "# Adjust paths as needed\n",
    "train_path = \"/Users/cherry/Documents/DL PROJECT/Skin_Cancer_Classification_DL_Project(1)/train\"\n",
    "val_path = \"/Users/cherry/Documents/DL PROJECT/Skin_Cancer_Classification_DL_Project(1)/val\"\n",
    "\n",
    "def get_images_and_labels(folder_path):\n",
    "    images = []\n",
    "    labels = []\n",
    "    for filename in os.listdir(folder_path):\n",
    "        if filename.endswith(\".jpg\") or filename.endswith(\".png\"):\n",
    "            label = int(filename.split(\"_\")[0]) - 1  # convert to 0-indexed\n",
    "            img_path = os.path.join(folder_path, filename)\n",
    "            img = load_img(img_path, color_mode='grayscale', target_size=(224, 224))\n",
    "            img_array = img_to_array(img)\n",
    "            # Convert grayscale to RGB by stacking\n",
    "            img_rgb = np.repeat(img_array, 3, axis=2)\n",
    "            images.append(img_rgb)\n",
    "            labels.append(label)\n",
    "    return np.array(images), np.array(labels)\n",
    "\n",
    "train_images, train_labels = get_images_and_labels(train_path)\n",
    "val_images, val_labels = get_images_and_labels(val_path)\n",
    "\n",
    "print(\"Train shape:\", train_images.shape, train_labels.shape)\n",
    "print(\"Val shape:\", val_images.shape, val_labels.shape)"
   ]
  },
  {
   "cell_type": "code",
   "execution_count": null,
   "id": "23c4b964-88b4-491e-affb-4b092c49ab4e",
   "metadata": {},
   "outputs": [],
   "source": []
  }
 ],
 "metadata": {
  "kernelspec": {
   "display_name": "Python [conda env:base] *",
   "language": "python",
   "name": "conda-base-py"
  },
  "language_info": {
   "codemirror_mode": {
    "name": "ipython",
    "version": 3
   },
   "file_extension": ".py",
   "mimetype": "text/x-python",
   "name": "python",
   "nbconvert_exporter": "python",
   "pygments_lexer": "ipython3",
   "version": "3.12.7"
  }
 },
 "nbformat": 4,
 "nbformat_minor": 5
}
